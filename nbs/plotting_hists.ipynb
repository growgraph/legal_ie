{
 "cells": [
  {
   "cell_type": "code",
   "execution_count": 1,
   "id": "295090e4-80a6-4568-a189-6a11d3a0c521",
   "metadata": {},
   "outputs": [],
   "source": [
    "import pandas as pd\n",
    "import seaborn as sns\n",
    "import numpy as np\n",
    "import re\n",
    "from datetime import timedelta\n",
    "import pathlib\n",
    "import matplotlib.pyplot as plt"
   ]
  },
  {
   "cell_type": "code",
   "execution_count": 2,
   "id": "2e608f03-4d0c-40e2-9a35-0697ad962e4e",
   "metadata": {},
   "outputs": [
    {
     "name": "stdout",
     "output_type": "stream",
     "text": [
      "824\n"
     ]
    }
   ],
   "source": [
    "def parse_iso8601_duration(duration):\n",
    "    try:\n",
    "        # Regular expression for matching ISO 8601 duration format (P[n]Y[n]M[n]DT[n]H[n]M[n]S)\n",
    "        match = re.match(r'P(?:(\\d+)Y)?(?:(\\d+)M)?(?:(\\d+)D)?T?(?:(\\d+)H)?(?:(\\d+)M)?(?:(\\d+)S)?', duration)\n",
    "        \n",
    "        if not match:\n",
    "            raise ValueError(\"Invalid ISO 8601 duration format\")\n",
    "    \n",
    "        years, months, days, hours, minutes, seconds = match.groups()\n",
    "        \n",
    "        # Convert parts to integers or 0 if not provided\n",
    "        years = int(years or 0)\n",
    "        months = int(months or 0)\n",
    "        days = int(days or 0)\n",
    "        hours = int(hours or 0)\n",
    "        minutes = int(minutes or 0)\n",
    "        seconds = int(seconds or 0)\n",
    "        \n",
    "        # Approximate a duration in days using years and months\n",
    "        # Note: This is a simple approximation. A more complex calculation can be done if needed\n",
    "        days += years * 365 + months * 30  # Assumes 30 days in a month for approximation\n",
    "        \n",
    "        # Return a timedelta object\n",
    "        return days\n",
    "    except:\n",
    "        return None\n",
    "duration = \"P2Y3M4DT5H6M7S\"\n",
    "parsed_duration = parse_iso8601_duration(duration)\n",
    "print(parsed_duration)"
   ]
  },
  {
   "cell_type": "code",
   "execution_count": 3,
   "id": "dd1c42df-adfb-4ff3-af3e-2b73c78c7d5e",
   "metadata": {},
   "outputs": [],
   "source": [
    "plot_path = pathlib.Path(\"../figs\")\n",
    "datapath = pathlib.Path(\"../data/reports\")"
   ]
  },
  {
   "cell_type": "code",
   "execution_count": 4,
   "id": "7779fd85-7c63-446c-b6e1-d3ecb615041c",
   "metadata": {},
   "outputs": [],
   "source": [
    "df = pd.read_csv(datapath / \"durations_fines.csv\")"
   ]
  },
  {
   "cell_type": "code",
   "execution_count": 5,
   "id": "85d7c410-6064-45c5-a6cc-f8de2e8185fd",
   "metadata": {},
   "outputs": [
    {
     "data": {
      "text/html": [
       "<div>\n",
       "<style scoped>\n",
       "    .dataframe tbody tr th:only-of-type {\n",
       "        vertical-align: middle;\n",
       "    }\n",
       "\n",
       "    .dataframe tbody tr th {\n",
       "        vertical-align: top;\n",
       "    }\n",
       "\n",
       "    .dataframe thead th {\n",
       "        text-align: right;\n",
       "    }\n",
       "</style>\n",
       "<table border=\"1\" class=\"dataframe\">\n",
       "  <thead>\n",
       "    <tr style=\"text-align: right;\">\n",
       "      <th></th>\n",
       "      <th>AppealId</th>\n",
       "      <th>AppealDecision</th>\n",
       "      <th>PunishmentDuration</th>\n",
       "      <th>FineAmount</th>\n",
       "      <th>CurrencyCode</th>\n",
       "    </tr>\n",
       "  </thead>\n",
       "  <tbody>\n",
       "    <tr>\n",
       "      <th>0</th>\n",
       "      <td>16-82.525</td>\n",
       "      <td>http://growgraph.dev/fcaont#AppealRejected</td>\n",
       "      <td>P0D</td>\n",
       "      <td>0.0</td>\n",
       "      <td>EUR</td>\n",
       "    </tr>\n",
       "    <tr>\n",
       "      <th>1</th>\n",
       "      <td>16-82.525</td>\n",
       "      <td>http://growgraph.dev/fcaont#AppealRejected</td>\n",
       "      <td>P1Y</td>\n",
       "      <td>0.0</td>\n",
       "      <td>EUR</td>\n",
       "    </tr>\n",
       "    <tr>\n",
       "      <th>2</th>\n",
       "      <td>16-82.525</td>\n",
       "      <td>http://growgraph.dev/fcaont#AppealRejected</td>\n",
       "      <td>P2Y</td>\n",
       "      <td>0.0</td>\n",
       "      <td>EUR</td>\n",
       "    </tr>\n",
       "    <tr>\n",
       "      <th>3</th>\n",
       "      <td>16-82.525</td>\n",
       "      <td>http://growgraph.dev/fcaont#AppealRejected</td>\n",
       "      <td>P0D</td>\n",
       "      <td>18620.0</td>\n",
       "      <td>EUR</td>\n",
       "    </tr>\n",
       "    <tr>\n",
       "      <th>4</th>\n",
       "      <td>16-82.525</td>\n",
       "      <td>http://growgraph.dev/fcaont#AppealRejected</td>\n",
       "      <td>P1Y</td>\n",
       "      <td>18620.0</td>\n",
       "      <td>EUR</td>\n",
       "    </tr>\n",
       "  </tbody>\n",
       "</table>\n",
       "</div>"
      ],
      "text/plain": [
       "    AppealId                              AppealDecision PunishmentDuration  \\\n",
       "0  16-82.525  http://growgraph.dev/fcaont#AppealRejected                P0D   \n",
       "1  16-82.525  http://growgraph.dev/fcaont#AppealRejected                P1Y   \n",
       "2  16-82.525  http://growgraph.dev/fcaont#AppealRejected                P2Y   \n",
       "3  16-82.525  http://growgraph.dev/fcaont#AppealRejected                P0D   \n",
       "4  16-82.525  http://growgraph.dev/fcaont#AppealRejected                P1Y   \n",
       "\n",
       "   FineAmount CurrencyCode  \n",
       "0         0.0          EUR  \n",
       "1         0.0          EUR  \n",
       "2         0.0          EUR  \n",
       "3     18620.0          EUR  \n",
       "4     18620.0          EUR  "
      ]
     },
     "execution_count": 5,
     "metadata": {},
     "output_type": "execute_result"
    }
   ],
   "source": [
    "df.head()"
   ]
  },
  {
   "cell_type": "code",
   "execution_count": 6,
   "id": "609b61cc-fbdc-467d-9653-5d89877bc376",
   "metadata": {},
   "outputs": [],
   "source": [
    "df[\"punishement [days]\"] = df.PunishmentDuration.apply(lambda x: x if x is None else parse_iso8601_duration(x))"
   ]
  },
  {
   "cell_type": "code",
   "execution_count": 7,
   "id": "534f62de-4632-4e40-8c0c-65e656143600",
   "metadata": {},
   "outputs": [
    {
     "data": {
      "text/plain": [
       "(1317, 8553)"
      ]
     },
     "execution_count": 7,
     "metadata": {},
     "output_type": "execute_result"
    }
   ],
   "source": [
    "sum(df[\"punishement [days]\"].isnull()), sum(~df[\"punishement [days]\"].isnull())"
   ]
  },
  {
   "cell_type": "code",
   "execution_count": 8,
   "id": "d02576a8-53f7-45cd-be1b-b5b15e5ff5fc",
   "metadata": {},
   "outputs": [
    {
     "data": {
      "text/plain": [
       "AppealDecision\n",
       "http://growgraph.dev/fcaont#AppealRejected                                   5370\n",
       "http://growgraph.dev/fcaont#AppealPartiallyUpheld                            1586\n",
       "http://growgraph.dev/fcaont#AppealCassationPartial                             51\n",
       "http://growgraph.dev/fcaont#AppealUpheld                                       47\n",
       "https://growgraph.dev/fca/appeal/fca--22-84--985#AppealDecision_22_84_985      43\n",
       "Name: count, dtype: int64"
      ]
     },
     "execution_count": 8,
     "metadata": {},
     "output_type": "execute_result"
    }
   ],
   "source": [
    "df.AppealDecision.value_counts().head()"
   ]
  },
  {
   "cell_type": "code",
   "execution_count": 9,
   "id": "bd2b8f51-3859-413a-a413-cc51d8a79f7a",
   "metadata": {},
   "outputs": [],
   "source": [
    "df[\"decision\"] = df.AppealDecision.replace({\"http://growgraph.dev/fcaont#AppealRejected\": \"AppealRejected\"})\n",
    "df.loc[df[\"decision\"] != \"AppealRejected\", \"decision\"] = \"Upheld\""
   ]
  },
  {
   "cell_type": "code",
   "execution_count": 10,
   "id": "8789e535-58f2-47a8-a502-67d8076a52a5",
   "metadata": {},
   "outputs": [
    {
     "data": {
      "text/html": [
       "<div>\n",
       "<style scoped>\n",
       "    .dataframe tbody tr th:only-of-type {\n",
       "        vertical-align: middle;\n",
       "    }\n",
       "\n",
       "    .dataframe tbody tr th {\n",
       "        vertical-align: top;\n",
       "    }\n",
       "\n",
       "    .dataframe thead th {\n",
       "        text-align: right;\n",
       "    }\n",
       "</style>\n",
       "<table border=\"1\" class=\"dataframe\">\n",
       "  <thead>\n",
       "    <tr style=\"text-align: right;\">\n",
       "      <th></th>\n",
       "      <th>AppealId</th>\n",
       "      <th>AppealDecision</th>\n",
       "      <th>PunishmentDuration</th>\n",
       "      <th>FineAmount</th>\n",
       "      <th>CurrencyCode</th>\n",
       "      <th>punishement [days]</th>\n",
       "      <th>decision</th>\n",
       "    </tr>\n",
       "  </thead>\n",
       "  <tbody>\n",
       "    <tr>\n",
       "      <th>0</th>\n",
       "      <td>16-82.525</td>\n",
       "      <td>http://growgraph.dev/fcaont#AppealRejected</td>\n",
       "      <td>P0D</td>\n",
       "      <td>0.0</td>\n",
       "      <td>EUR</td>\n",
       "      <td>0.0</td>\n",
       "      <td>AppealRejected</td>\n",
       "    </tr>\n",
       "    <tr>\n",
       "      <th>1</th>\n",
       "      <td>16-82.525</td>\n",
       "      <td>http://growgraph.dev/fcaont#AppealRejected</td>\n",
       "      <td>P1Y</td>\n",
       "      <td>0.0</td>\n",
       "      <td>EUR</td>\n",
       "      <td>365.0</td>\n",
       "      <td>AppealRejected</td>\n",
       "    </tr>\n",
       "    <tr>\n",
       "      <th>2</th>\n",
       "      <td>16-82.525</td>\n",
       "      <td>http://growgraph.dev/fcaont#AppealRejected</td>\n",
       "      <td>P2Y</td>\n",
       "      <td>0.0</td>\n",
       "      <td>EUR</td>\n",
       "      <td>730.0</td>\n",
       "      <td>AppealRejected</td>\n",
       "    </tr>\n",
       "    <tr>\n",
       "      <th>3</th>\n",
       "      <td>16-82.525</td>\n",
       "      <td>http://growgraph.dev/fcaont#AppealRejected</td>\n",
       "      <td>P0D</td>\n",
       "      <td>18620.0</td>\n",
       "      <td>EUR</td>\n",
       "      <td>0.0</td>\n",
       "      <td>AppealRejected</td>\n",
       "    </tr>\n",
       "    <tr>\n",
       "      <th>4</th>\n",
       "      <td>16-82.525</td>\n",
       "      <td>http://growgraph.dev/fcaont#AppealRejected</td>\n",
       "      <td>P1Y</td>\n",
       "      <td>18620.0</td>\n",
       "      <td>EUR</td>\n",
       "      <td>365.0</td>\n",
       "      <td>AppealRejected</td>\n",
       "    </tr>\n",
       "  </tbody>\n",
       "</table>\n",
       "</div>"
      ],
      "text/plain": [
       "    AppealId                              AppealDecision PunishmentDuration  \\\n",
       "0  16-82.525  http://growgraph.dev/fcaont#AppealRejected                P0D   \n",
       "1  16-82.525  http://growgraph.dev/fcaont#AppealRejected                P1Y   \n",
       "2  16-82.525  http://growgraph.dev/fcaont#AppealRejected                P2Y   \n",
       "3  16-82.525  http://growgraph.dev/fcaont#AppealRejected                P0D   \n",
       "4  16-82.525  http://growgraph.dev/fcaont#AppealRejected                P1Y   \n",
       "\n",
       "   FineAmount CurrencyCode  punishement [days]        decision  \n",
       "0         0.0          EUR                 0.0  AppealRejected  \n",
       "1         0.0          EUR               365.0  AppealRejected  \n",
       "2         0.0          EUR               730.0  AppealRejected  \n",
       "3     18620.0          EUR                 0.0  AppealRejected  \n",
       "4     18620.0          EUR               365.0  AppealRejected  "
      ]
     },
     "execution_count": 10,
     "metadata": {},
     "output_type": "execute_result"
    }
   ],
   "source": [
    "df.head()"
   ]
  },
  {
   "cell_type": "code",
   "execution_count": 11,
   "id": "e90cdabb-f557-42e0-ace5-e0e6ce536aad",
   "metadata": {},
   "outputs": [
    {
     "data": {
      "text/plain": [
       "(723, 7)"
      ]
     },
     "execution_count": 11,
     "metadata": {},
     "output_type": "execute_result"
    }
   ],
   "source": [
    "df2 = df.loc[df[\"punishement [days]\"].notnull() & (df[\"punishement [days]\"] > 0) & (df[\"punishement [days]\"] < 6000)].copy()\n",
    "df2 = df2.drop_duplicates([\"AppealId\", \"punishement [days]\"])\n",
    "df2.head()\n",
    "df2.shape"
   ]
  },
  {
   "cell_type": "code",
   "execution_count": 12,
   "id": "055bbe63-6f5e-4194-85f2-5c521a6d1fc3",
   "metadata": {},
   "outputs": [
    {
     "data": {
      "image/png": "[encoded data removed]",
      "text/plain": [
       "<Figure size 640x480 with 1 Axes>"
      ]
     },
     "metadata": {},
     "output_type": "display_data"
    }
   ],
   "source": [
    "sns.set_style(\"whitegrid\")\n",
    "qualitative_colors = sns.color_palette(\"Set3\", 10)[3:5]\n",
    "hue_order = sorted(df2[\"decision\"].unique())\n",
    "sns.histplot(df2, x=\"punishement [days]\", hue=\"decision\", \n",
    "             common_norm=False, stat=\"density\", element=\"step\", bins=10, hue_order=hue_order,\n",
    "            palette=qualitative_colors)\n",
    "plt.savefig(\n",
    "    plot_path.expanduser() / \"custodial_duration.png\",\n",
    "    dpi=300,\n",
    "    bbox_inches=\"tight\",\n",
    ")"
   ]
  },
  {
   "cell_type": "code",
   "execution_count": 13,
   "id": "4adbbfad-dc74-4bcb-b21c-3817fb5ab070",
   "metadata": {},
   "outputs": [
    {
     "data": {
      "text/plain": [
       "decision\n",
       "AppealRejected    0.573997\n",
       "Upheld            0.426003\n",
       "Name: count, dtype: float64"
      ]
     },
     "execution_count": 13,
     "metadata": {},
     "output_type": "execute_result"
    }
   ],
   "source": [
    "df2.decision.value_counts()/df2.shape[0]"
   ]
  },
  {
   "cell_type": "code",
   "execution_count": 14,
   "id": "77caddc9-8bc9-40cf-9fd5-d7f94e6ad0af",
   "metadata": {},
   "outputs": [
    {
     "data": {
      "text/plain": [
       "(444, 7)"
      ]
     },
     "execution_count": 14,
     "metadata": {},
     "output_type": "execute_result"
    }
   ],
   "source": [
    "df3 = df.loc[df[\"FineAmount\"].notnull() & (df[\"FineAmount\"] > 1) & (df[\"FineAmount\"] < 1e7)].copy().rename(columns={\"FineAmount\": \"Fine [euro]\"})\n",
    "df3 = df3.drop_duplicates([\"AppealId\", \"Fine [euro]\"])\n",
    "df3.shape"
   ]
  },
  {
   "cell_type": "code",
   "execution_count": 15,
   "id": "723cffca-eb8a-45e9-98ad-847917bd378b",
   "metadata": {},
   "outputs": [
    {
     "data": {
      "image/png": "[encoded data removed]",
      "text/plain": [
       "<Figure size 640x480 with 1 Axes>"
      ]
     },
     "metadata": {},
     "output_type": "display_data"
    }
   ],
   "source": [
    "qualitative_colors = sns.color_palette(\"Set3\", 10)[3:5]\n",
    "sns.histplot(df3, x=\"Fine [euro]\", hue=\"decision\", \n",
    "             common_norm=False, stat=\"density\", element=\"step\", \n",
    "             palette=qualitative_colors,\n",
    "             hue_order=hue_order,\n",
    "             # bins=10,\n",
    "             log_scale=True,\n",
    "            )\n",
    "\n",
    "plt.savefig(\n",
    "    plot_path.expanduser() / \"fines.png\",\n",
    "    dpi=300,\n",
    "    bbox_inches=\"tight\",\n",
    ")"
   ]
  },
  {
   "cell_type": "code",
   "execution_count": 16,
   "id": "e15ee615-2f31-4143-aee9-c75ed5a4d069",
   "metadata": {},
   "outputs": [
    {
     "data": {
      "text/html": [
       "<div>\n",
       "<style scoped>\n",
       "    .dataframe tbody tr th:only-of-type {\n",
       "        vertical-align: middle;\n",
       "    }\n",
       "\n",
       "    .dataframe tbody tr th {\n",
       "        vertical-align: top;\n",
       "    }\n",
       "\n",
       "    .dataframe thead th {\n",
       "        text-align: right;\n",
       "    }\n",
       "</style>\n",
       "<table border=\"1\" class=\"dataframe\">\n",
       "  <thead>\n",
       "    <tr style=\"text-align: right;\">\n",
       "      <th></th>\n",
       "      <th>offenseType</th>\n",
       "      <th>count</th>\n",
       "      <th>Offense Type</th>\n",
       "    </tr>\n",
       "  </thead>\n",
       "  <tbody>\n",
       "    <tr>\n",
       "      <th>0</th>\n",
       "      <td>http://growgraph.dev/fcaont#ViolentOffense</td>\n",
       "      <td>537</td>\n",
       "      <td>ViolentOffense</td>\n",
       "    </tr>\n",
       "    <tr>\n",
       "      <th>1</th>\n",
       "      <td>http://growgraph.dev/fcaont#PropertyOffense</td>\n",
       "      <td>264</td>\n",
       "      <td>PropertyOffense</td>\n",
       "    </tr>\n",
       "    <tr>\n",
       "      <th>2</th>\n",
       "      <td>http://growgraph.dev/fcaont#PublicOrderCrime</td>\n",
       "      <td>262</td>\n",
       "      <td>PublicOrderCrime</td>\n",
       "    </tr>\n",
       "    <tr>\n",
       "      <th>3</th>\n",
       "      <td>http://growgraph.dev/fcaont#DrugOffense</td>\n",
       "      <td>239</td>\n",
       "      <td>DrugOffense</td>\n",
       "    </tr>\n",
       "    <tr>\n",
       "      <th>4</th>\n",
       "      <td>http://growgraph.dev/fcaont#Fraud</td>\n",
       "      <td>232</td>\n",
       "      <td>Fraud</td>\n",
       "    </tr>\n",
       "  </tbody>\n",
       "</table>\n",
       "</div>"
      ],
      "text/plain": [
       "                                    offenseType  count      Offense Type\n",
       "0    http://growgraph.dev/fcaont#ViolentOffense    537    ViolentOffense\n",
       "1   http://growgraph.dev/fcaont#PropertyOffense    264   PropertyOffense\n",
       "2  http://growgraph.dev/fcaont#PublicOrderCrime    262  PublicOrderCrime\n",
       "3       http://growgraph.dev/fcaont#DrugOffense    239       DrugOffense\n",
       "4             http://growgraph.dev/fcaont#Fraud    232             Fraud"
      ]
     },
     "execution_count": 16,
     "metadata": {},
     "output_type": "execute_result"
    }
   ],
   "source": [
    "df = pd.read_csv(datapath / \"offense_vc.csv\")\n",
    "# df[\"decision\"] = df.AppealDecision.replace({\"http://growgraph.dev/fcaont#AppealRejected\": \"AppealRejected\"})\n",
    "# df.loc[df[\"decision\"] != \"AppealRejected\", \"decision\"] = \"Upheld\"\n",
    "df[\"Offense Type\"] = df.offenseType.apply(lambda x: x.split(\"#\")[-1])\n",
    "df.head()"
   ]
  },
  {
   "cell_type": "code",
   "execution_count": 17,
   "id": "7e60cbb3-7b4f-4265-8a85-8d232c86ff51",
   "metadata": {},
   "outputs": [
    {
     "data": {
      "image/png": "[encoded data removed]",
      "text/plain": [
       "<Figure size 640x480 with 1 Axes>"
      ]
     },
     "metadata": {},
     "output_type": "display_data"
    }
   ],
   "source": [
    "sns.set_style(\"whitegrid\")\n",
    "ax = sns.barplot(df, x=\"Offense Type\", y=\"count\")\n",
    "ax.tick_params(axis=\"x\", rotation=90)\n",
    "\n",
    "plt.savefig(\n",
    "    plot_path.expanduser() / \"offense_type.png\",\n",
    "    dpi=300,\n",
    "    bbox_inches=\"tight\",\n",
    ")"
   ]
  },
  {
   "cell_type": "code",
   "execution_count": 18,
   "id": "a5b546a8-541e-429c-bbb4-b26ec534845d",
   "metadata": {},
   "outputs": [
    {
     "data": {
      "image/png": "[encoded data removed]",
      "text/plain": [
       "<Figure size 640x480 with 1 Axes>"
      ]
     },
     "metadata": {},
     "output_type": "display_data"
    }
   ],
   "source": [
    "sns.set_style(\"whitegrid\")\n",
    "df = pd.read_csv(datapath / \"triple_count.csv\").rename(columns={\"tripleCount\": \"triples per appeal\"})\n",
    "ax = sns.histplot(df[\"triples per appeal\"], bins=30)\n",
    "ax.set_xlim([0, 100])\n",
    "plt.savefig(\n",
    "    plot_path.expanduser() / \"triples.png\",\n",
    "    dpi=300,\n",
    "    bbox_inches=\"tight\",\n",
    ")"
   ]
  },
  {
   "cell_type": "code",
   "execution_count": 19,
   "id": "7a91b60e-e70c-4ab1-b44a-b213d47cb3dd",
   "metadata": {},
   "outputs": [
    {
     "data": {
      "text/plain": [
       "30.001077586206897"
      ]
     },
     "execution_count": 19,
     "metadata": {},
     "output_type": "execute_result"
    }
   ],
   "source": [
    "df[\"triples per appeal\"].mean()"
   ]
  },
  {
   "cell_type": "code",
   "execution_count": null,
   "id": "19ed42a8-8638-4eaa-a89b-89f03633055f",
   "metadata": {},
   "outputs": [],
   "source": []
  }
 ],
 "metadata": {
  "kernelspec": {
   "display_name": "Python 3 (ipykernel)",
   "language": "python",
   "name": "python3"
  },
  "language_info": {
   "codemirror_mode": {
    "name": "ipython",
    "version": 3
   },
   "file_extension": ".py",
   "mimetype": "text/x-python",
   "name": "python",
   "nbconvert_exporter": "python",
   "pygments_lexer": "ipython3",
   "version": "3.11.10"
  }
 },
 "nbformat": 4,
 "nbformat_minor": 5
}
